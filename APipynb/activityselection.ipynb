{
  "metadata": {
    "kernelspec": {
      "name": "python",
      "display_name": "Python (Pyodide)",
      "language": "python"
    },
    "language_info": {
      "codemirror_mode": {
        "name": "python",
        "version": 3
      },
      "file_extension": ".py",
      "mimetype": "text/x-python",
      "name": "python",
      "nbconvert_exporter": "python",
      "pygments_lexer": "ipython3",
      "version": "3.8"
    }
  },
  "nbformat_minor": 4,
  "nbformat": 4,
  "cells": [
    {
      "cell_type": "code",
      "source": "def selection(activities):\n    sorted_act = sorted(activities.items(), key= lambda x: x[1][1])\n    current_time = sorted_act[0][1][0]\n    selection_list = []\n    ans = \"\"\n\n    for i in range(len(sorted_act)):\n        if sorted_act[i][1][0] >= current_time:\n            selection_list.append(sorted_act[i][0])\n            current_time = sorted_act[i][1][1]\n\n    for i in range(len(selection_list)):\n        if i != len(selection_list)-1:\n            ans += selection_list[i] + ' -> '\n        else:\n            ans += selection_list[i]\n\n    return ans",
      "metadata": {
        "trusted": true
      },
      "outputs": [],
      "execution_count": null
    },
    {
      "cell_type": "code",
      "source": "activities = {\n    'A1': [1,3],\n    'A2': [3,4],\n    'A3': [2,5],\n    'A4': [4,7],\n    'A5': [8,9],\n    'A6': [7,10]\n}\n\nprint(\"Order of Selection of Activities : \", selection(activities))",
      "metadata": {
        "trusted": true
      },
      "outputs": [],
      "execution_count": null
    }
  ]
}