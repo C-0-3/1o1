{
  "metadata": {
    "kernelspec": {
      "name": "python",
      "display_name": "Python (Pyodide)",
      "language": "python"
    },
    "language_info": {
      "codemirror_mode": {
        "name": "python",
        "version": 3
      },
      "file_extension": ".py",
      "mimetype": "text/x-python",
      "name": "python",
      "nbconvert_exporter": "python",
      "pygments_lexer": "ipython3",
      "version": "3.8"
    }
  },
  "nbformat_minor": 4,
  "nbformat": 4,
  "cells": [
    {
      "cell_type": "code",
      "source": "class Node:\n    def __init__(self, character=None, frequency=None):\n        self.character = character\n        self.frequency = frequency\n        self.left = None\n        self.right = None\n\n    def buildTree():\n        while len(nodes) > 1:\n            nodes.sort(key= lambda x: x.frequency)\n            left = nodes.pop(0)\n            right = nodes.pop(0)\n\n            merged = Node(frequency=left.frequency + right.frequency)\n            merged.left = left\n            merged.right = right\n\n            nodes.append(merged)\n\n        return nodes[0]\n\n    def generateCodes(node, current_code, codes):\n        if node is None:\n            return\n    \n        if node.character is not None:\n            codes[node.character] = current_code\n\n        generateCodes(node.left, current_code + '0', codes)\n        generateCodes(node.right, current_code + '1', codes)",
      "metadata": {
        "trusted": true
      },
      "outputs": [],
      "execution_count": null
    },
    {
      "cell_type": "code",
      "source": "char_freq = {\n    'a': 5,\n    'b': 9,\n    'c': 12,\n    'd': 13,\n    'e': 16,\n    'f': 45\n}\n\nnodes = []",
      "metadata": {
        "trusted": true
      },
      "outputs": [],
      "execution_count": null
    },
    {
      "cell_type": "code",
      "source": "for c, f in char_freq.items():\n    nodes.append(Node(character=c, frequency=f))\n\ncodes = {}\ngenerateCodes(buildTree(), '', codes)\n\nprint(codes)",
      "metadata": {
        "trusted": true
      },
      "outputs": [],
      "execution_count": null
    }
  ]
}