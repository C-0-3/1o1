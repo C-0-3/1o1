{
  "metadata": {
    "kernelspec": {
      "name": "python",
      "display_name": "Python (Pyodide)",
      "language": "python"
    },
    "language_info": {
      "codemirror_mode": {
        "name": "python",
        "version": 3
      },
      "file_extension": ".py",
      "mimetype": "text/x-python",
      "name": "python",
      "nbconvert_exporter": "python",
      "pygments_lexer": "ipython3",
      "version": "3.8"
    }
  },
  "nbformat_minor": 4,
  "nbformat": 4,
  "cells": [
    {
      "cell_type": "code",
      "source": "def dijkstra(graph, start):\n    distances = {node: float('infinity') for node in graph}\n    distances[start] = 0\n    \n\n    unvisited_nodes = set(graph.keys())\n    \n    while unvisited_nodes:\n        current_node = min(unvisited_nodes, key=lambda node: distances[node])\n        \n        unvisited_nodes.remove(current_node)\n        \n        for neighbor, weight in graph[current_node]:\n            new_distance = distances[current_node] + weight\n            if new_distance < distances[neighbor]:\n                distances[neighbor] = new_distance\n    \n    return distances",
      "metadata": {
        "trusted": true
      },
      "outputs": [],
      "execution_count": null
    },
    {
      "cell_type": "code",
      "source": "if __name__ == \"__main__\":\n    graph = {\n        'A': [('B', 1), ('C', 4)],\n        'B': [('A', 1), ('C', 2), ('D', 5)],\n        'C': [('A', 4), ('B', 2), ('D', 1)],\n        'D': [('B', 5), ('C', 1)]\n    }\n    \n    start_node = 'A'\n    shortest_paths = dijkstra(graph, start_node)\n    \n    print(f\"Shortest paths from {start_node}:\")\n    for node, distance in shortest_paths.items():\n        print(f\"Distance to {node}: {distance}\")",
      "metadata": {
        "trusted": true
      },
      "outputs": [],
      "execution_count": null
    }
  ]
}