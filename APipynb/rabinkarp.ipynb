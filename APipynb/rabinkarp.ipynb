{
  "metadata": {
    "kernelspec": {
      "name": "python",
      "display_name": "Python (Pyodide)",
      "language": "python"
    },
    "language_info": {
      "codemirror_mode": {
        "name": "python",
        "version": 3
      },
      "file_extension": ".py",
      "mimetype": "text/x-python",
      "name": "python",
      "nbconvert_exporter": "python",
      "pygments_lexer": "ipython3",
      "version": "3.8"
    }
  },
  "nbformat_minor": 4,
  "nbformat": 4,
  "cells": [
    {
      "cell_type": "code",
      "source": "def rabin_karp(text, pattern):\n\n    n = len(text)\n    m = len(pattern)\n    d = 256  \n    q = 101\n    pattern_hash = 0\n    text_hash = 0\n    h = 1\n\n    for _ in range(m - 1):\n        h = (h * d) % q\n\n    for i in range(m):\n        pattern_hash = (d * pattern_hash + ord(pattern[i])) % q\n        text_hash = (d * text_hash + ord(text[i])) % q\n\n    result = []\n\n    for i in range(n - m + 1):\n        if pattern_hash == text_hash:\n            for j in range(m):\n                if text[i + j] != pattern[j]:\n                    break\n            else:\n                result.append(i)\n\n        if i < n - m:\n            text_hash = (d * (text_hash - ord(text[i]) * h) + ord(text[i + m])) % q\n            if text_hash < 0:\n                text_hash += q\n\n    return result",
      "metadata": {
        "trusted": true
      },
      "outputs": [],
      "execution_count": null
    },
    {
      "cell_type": "code",
      "source": "text = \"ABCCDDAEFG\"\npattern = \"CDD\"\nresult = rabin_karp(text, pattern)\nprint(f\"Pattern '{pattern}' found at indices: {result}\")",
      "metadata": {
        "trusted": true
      },
      "outputs": [],
      "execution_count": null
    }
  ]
}