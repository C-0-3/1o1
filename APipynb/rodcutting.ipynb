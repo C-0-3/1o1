{
  "metadata": {
    "kernelspec": {
      "name": "python",
      "display_name": "Python (Pyodide)",
      "language": "python"
    },
    "language_info": {
      "codemirror_mode": {
        "name": "python",
        "version": 3
      },
      "file_extension": ".py",
      "mimetype": "text/x-python",
      "name": "python",
      "nbconvert_exporter": "python",
      "pygments_lexer": "ipython3",
      "version": "3.8"
    }
  },
  "nbformat_minor": 4,
  "nbformat": 4,
  "cells": [
    {
      "cell_type": "code",
      "source": "import sys",
      "metadata": {
        "trusted": true
      },
      "outputs": [],
      "execution_count": null
    },
    {
      "cell_type": "code",
      "source": "def max(a, b):\n\treturn a if (a > b) else b",
      "metadata": {
        "trusted": true
      },
      "outputs": [],
      "execution_count": null
    },
    {
      "cell_type": "code",
      "source": "def cutRod(price, n):\n\tif(n <= 0):\n\t\treturn 0\n\tmax_val = -sys.maxsize-1\n\tfor i in range(0, n):\n\t\tmax_val = max(max_val, price[i] +\n\t\t\t\t\tcutRod(price, n - i - 1))\n\treturn max_val",
      "metadata": {
        "trusted": true
      },
      "outputs": [],
      "execution_count": null
    },
    {
      "cell_type": "code",
      "source": "arr = [1, 5, 8, 9, 10, 17, 17, 20]\nsize = len(arr)\nprint(\"Maximum Obtainable Value is\", cutRod(arr, size))",
      "metadata": {
        "trusted": true
      },
      "outputs": [],
      "execution_count": null
    }
  ]
}