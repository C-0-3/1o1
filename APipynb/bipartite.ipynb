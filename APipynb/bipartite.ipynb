{
  "metadata": {
    "kernelspec": {
      "name": "python",
      "display_name": "Python (Pyodide)",
      "language": "python"
    },
    "language_info": {
      "codemirror_mode": {
        "name": "python",
        "version": 3
      },
      "file_extension": ".py",
      "mimetype": "text/x-python",
      "name": "python",
      "nbconvert_exporter": "python",
      "pygments_lexer": "ipython3",
      "version": "3.8"
    }
  },
  "nbformat_minor": 4,
  "nbformat": 4,
  "cells": [
    {
      "cell_type": "code",
      "source": "from collections import deque",
      "metadata": {
        "trusted": true
      },
      "outputs": [],
      "execution_count": null
    },
    {
      "cell_type": "code",
      "source": "def is_bipartite(graph):\n    n = len(graph)\n    color = [-1] * n  # -1 means uncolored, 0 and 1 will represent the two colors\n\n    for start in range(n):\n        if color[start] == -1:  # Check uncolored nodes\n            queue = deque([start])\n            color[start] = 0  # Start coloring with 0\n\n            while queue:\n                node = queue.popleft()\n\n                for neighbor in graph[node]:\n                    if color[neighbor] == -1:  # If the neighbor is uncolored\n                        color[neighbor] = 1 - color[node]  # Assign the opposite color\n                        queue.append(neighbor)\n                    elif color[neighbor] == color[node]:  # If the neighbor has the same color, not bipartite\n                        return False\n    return True",
      "metadata": {
        "trusted": true
      },
      "outputs": [],
      "execution_count": null
    },
    {
      "cell_type": "code",
      "source": "graph = [\n    [1, 3],  # Node 0 is connected to 1 and 3\n    [0, 2],  # Node 1 is connected to 0 and 2\n    [1, 3],  # Node 2 is connected to 1 and 3\n    [0, 2]   # Node 3 is connected to 0 and 2\n]\n\nprint(\"Graph is bipartite\" if is_bipartite(graph) else \"Graph is not bipartite\")",
      "metadata": {
        "trusted": true
      },
      "outputs": [],
      "execution_count": null
    }
  ]
}