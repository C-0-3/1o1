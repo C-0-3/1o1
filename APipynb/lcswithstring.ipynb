{
  "metadata": {
    "kernelspec": {
      "name": "python",
      "display_name": "Python (Pyodide)",
      "language": "python"
    },
    "language_info": {
      "codemirror_mode": {
        "name": "python",
        "version": 3
      },
      "file_extension": ".py",
      "mimetype": "text/x-python",
      "name": "python",
      "nbconvert_exporter": "python",
      "pygments_lexer": "ipython3",
      "version": "3.8"
    }
  },
  "nbformat_minor": 4,
  "nbformat": 4,
  "cells": [
    {
      "cell_type": "code",
      "source": "def lcs(s1, s2):\n    # Create the LCS matrix\n    mat = [[0] * (len(s2) + 1) for _ in range(len(s1) + 1)]\n\n    # Fill the matrix\n    for i in range(len(s1)):\n        for j in range(len(s2)):\n            if s1[i] == s2[j]:\n                mat[i + 1][j + 1] = mat[i][j] + 1\n            else:\n                mat[i + 1][j + 1] = max(mat[i][j + 1], mat[i + 1][j])\n\n    # Matrix\n    for m in mat:\n        print(m)\n\n    # Reconstruct the LCS string\n    i, j = len(s1), len(s2)\n    lcs_str = []\n\n    while i > 0 and j > 0:\n        if s1[i - 1] == s2[j - 1]:\n            lcs_str.append(s1[i - 1])  # Add character to LCS\n            i -= 1\n            j -= 1\n        elif mat[i - 1][j] > mat[i][j - 1]:\n            i -= 1\n        else:\n            j -= 1\n\n    # Reverse the list\n    lcs_str = ''.join(reversed(lcs_str))\n    print(f\"LCS: {lcs_str}\")",
      "metadata": {
        "trusted": true
      },
      "outputs": [],
      "execution_count": null
    },
    {
      "cell_type": "code",
      "source": "lcs('ELEPHANT', 'RELEVANT')",
      "metadata": {
        "trusted": true
      },
      "outputs": [],
      "execution_count": null
    }
  ]
}