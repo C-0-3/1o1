{
  "metadata": {
    "kernelspec": {
      "name": "python",
      "display_name": "Python (Pyodide)",
      "language": "python"
    },
    "language_info": {
      "codemirror_mode": {
        "name": "python",
        "version": 3
      },
      "file_extension": ".py",
      "mimetype": "text/x-python",
      "name": "python",
      "nbconvert_exporter": "python",
      "pygments_lexer": "ipython3",
      "version": "3.8"
    }
  },
  "nbformat_minor": 4,
  "nbformat": 4,
  "cells": [
    {
      "cell_type": "code",
      "source": "def CutRod(prices, n): \n    if n == 0: \n        return 0 \n    else: \n        T = [[0] * (n + 1) for _ in range(n)] \n        for i in range(n): \n            for j in range(n + 1): \n                if (i-1) < 0: \n                    if (j - i - 1) < 0: \n                        T[i][j] = 0 \n                    else: \n                        T[i][j] = prices[i] + T[i][j-i-1] \n                elif (j - i - 1) < 0: \n                    T[i][j] = T[i-1][j] \n                else: \n                    T[i][j] = max(T[i-1][j], prices[i] + T[i][j-i-1]) \n                    \n        for t in T:\n            print(t)\n            print(\"Maximum Profit = \", T[len(T)-1][len(T[0])-1]) ",
      "metadata": {
        "trusted": true
      },
      "outputs": [],
      "execution_count": null
    },
    {
      "cell_type": "code",
      "source": "def CutRod(prices, n): \n    if n == 0: \n        return 0 \n    else: \n        T = [[0] * (n + 1) for _ in range(n)] \n        for i in range(n): \n            for j in range(n + 1): \n                if (i-1) < 0: \n                    if (j - i - 1) < 0: \n                        T[i][j] = 0 \n                    else: \n                        T[i][j] = prices[i] + T[i][j-i-1] \n                elif (j - i - 1) < 0: \n                    T[i][j] = T[i-1][j] \n                else: \n                    T[i][j] = max(T[i-1][j], prices[i] + T[i][j-i-1]) \n                    \n        for t in T:\n            print(t)\n            print(\"Maximum Profit = \", T[len(T)-1][len(T[0])-1]) ",
      "metadata": {
        "trusted": true
      },
      "outputs": [],
      "execution_count": null
    }
  ]
}