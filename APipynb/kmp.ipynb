{
  "metadata": {
    "kernelspec": {
      "name": "python",
      "display_name": "Python (Pyodide)",
      "language": "python"
    },
    "language_info": {
      "name": ""
    }
  },
  "nbformat_minor": 4,
  "nbformat": 4,
  "cells": [
    {
      "cell_type": "code",
      "source": "def Lps(pattern):\n  lps = [0] * len(pattern)\n  i = 0\n  j = 1\n  while j < len(pattern):\n    if pattern[i] == pattern[j]:\n      lps[j] = i + 1\n      i += 1\n      j += 1\n    else:\n      if i != 0:\n        i = lps[i - 1]\n      else:\n        lps[j] = 0\n        j += 1\n  return lps",
      "metadata": {
        "trusted": true
      },
      "outputs": [],
      "execution_count": null
    },
    {
      "cell_type": "code",
      "source": "def kmp(pat, txt):\n  lps = Lps(pat)\n  i = 0 \n  j = 0 \n  matches = []\n\n  while i < len(txt):\n    if pat[j] == txt[i]:\n      i += 1\n      j += 1\n    if j == len(pat):\n      matches.append(i - j)\n      j = lps[j - 1]\n    elif i < len(txt) and pat[j] != txt[i]:\n      if j != 0:\n        j = lps[j - 1]\n      else:\n        i += 1\n\n  return matches",
      "metadata": {
        "trusted": true
      },
      "outputs": [],
      "execution_count": null
    },
    {
      "cell_type": "code",
      "source": "txt = \"ABAABCABAABABAE\"\npat = \"ABAABABA\"\nmatches = kmp(pat, txt)\n\nprint(\"LPS:\", Lps(pat))\nprint(\"Pattern found at indices:\", matches)",
      "metadata": {
        "trusted": true
      },
      "outputs": [],
      "execution_count": null
    }
  ]
}