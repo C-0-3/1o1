{
  "metadata": {
    "kernelspec": {
      "name": "python",
      "display_name": "Python (Pyodide)",
      "language": "python"
    },
    "language_info": {
      "codemirror_mode": {
        "name": "python",
        "version": 3
      },
      "file_extension": ".py",
      "mimetype": "text/x-python",
      "name": "python",
      "nbconvert_exporter": "python",
      "pygments_lexer": "ipython3",
      "version": "3.8"
    }
  },
  "nbformat_minor": 4,
  "nbformat": 4,
  "cells": [
    {
      "cell_type": "code",
      "source": "def BinarySearch(arr, low, high, x):\n\n    if high >= low:\n \n        mid = (low + high) // 2\n \n        if arr[mid] == x:\n            return mid\n \n        elif arr[mid] > x:\n            return BinarySearch(arr, low, mid - 1, x)\n \n        else:\n            return BinarySearch(arr, mid + 1, high, x)\n \n    else:\n        return -1",
      "metadata": {
        "trusted": true
      },
      "outputs": [],
      "execution_count": null
    },
    {
      "cell_type": "code",
      "source": "#Initialize\narray = [1,2,3,4,5,6,7,8,9]\ntoFind = 6\n\n#Search Call\nres = BinarySearch(array, 0, len(array)-1, int(input(\"Enter element to search : \")))",
      "metadata": {
        "trusted": true
      },
      "outputs": [],
      "execution_count": null
    },
    {
      "cell_type": "code",
      "source": "if res != -1:\n    print(\"Element is present at index - \", res)\nelse:\n    print(\"Element is not present in array.\")",
      "metadata": {
        "trusted": true
      },
      "outputs": [],
      "execution_count": null
    }
  ]
}