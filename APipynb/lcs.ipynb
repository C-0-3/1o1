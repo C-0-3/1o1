{
  "metadata": {
    "kernelspec": {
      "name": "python",
      "display_name": "Python (Pyodide)",
      "language": "python"
    },
    "language_info": {
      "name": ""
    }
  },
  "nbformat_minor": 4,
  "nbformat": 4,
  "cells": [
    {
      "cell_type": "code",
      "source": "def lcs(s1, s2):\n    mat = [[0] * (len(s2) + 1) for _ in range(len(s1) + 1)]\n    for i in range(len(s1)):\n        for j in range(len(s2)):\n            if s1[i] == s2[j]:\n                mat[i + 1][j + 1] = mat[i][j] + 1\n            else:\n                mat[i + 1][j + 1] = max(mat[i][j +1], mat[i + 1][j])\n\n    for m in mat:\n        print(m)",
      "metadata": {
        "trusted": true
      },
      "outputs": [],
      "execution_count": null
    },
    {
      "cell_type": "code",
      "source": "lcs('ELEPHANT', 'RELEVANT')",
      "metadata": {
        "trusted": true
      },
      "outputs": [],
      "execution_count": null
    }
  ]
}