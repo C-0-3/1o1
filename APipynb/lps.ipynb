{
  "metadata": {
    "kernelspec": {
      "name": "python",
      "display_name": "Python (Pyodide)",
      "language": "python"
    },
    "language_info": {
      "codemirror_mode": {
        "name": "python",
        "version": 3
      },
      "file_extension": ".py",
      "mimetype": "text/x-python",
      "name": "python",
      "nbconvert_exporter": "python",
      "pygments_lexer": "ipython3",
      "version": "3.8"
    }
  },
  "nbformat_minor": 4,
  "nbformat": 4,
  "cells": [
    {
      "cell_type": "code",
      "source": "def lps(pat):\n    LPS = [0] * len(pat)\n    i = 0\n    j = 1\n    LPS[0] = 0\n    while j < len(pat):\n        if pat[i] == pat[j]:\n            LPS[j] = i + 1\n            i += 1\n            j += 1\n        else:\n            if i == 0:\n                LPS[j] = 0\n                j += 1\n            else:\n                i = LPS[i - 1]\n    return LPS",
      "metadata": {
        "trusted": true
      },
      "outputs": [],
      "execution_count": null
    },
    {
      "cell_type": "code",
      "source": "pat = \"abcdababa\"\nLPS = lps(pat)\nprint(LPS)",
      "metadata": {
        "trusted": true
      },
      "outputs": [],
      "execution_count": null
    }
  ]
}