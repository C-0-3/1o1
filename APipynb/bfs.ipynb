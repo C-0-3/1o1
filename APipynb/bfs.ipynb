{
  "metadata": {
    "kernelspec": {
      "name": "python",
      "display_name": "Python (Pyodide)",
      "language": "python"
    },
    "language_info": {
      "codemirror_mode": {
        "name": "python",
        "version": 3
      },
      "file_extension": ".py",
      "mimetype": "text/x-python",
      "name": "python",
      "nbconvert_exporter": "python",
      "pygments_lexer": "ipython3",
      "version": "3.8"
    }
  },
  "nbformat_minor": 4,
  "nbformat": 4,
  "cells": [
    {
      "cell_type": "code",
      "source": "def bfs(graph, node):\n    visited = []\n    queue = []\n\n    queue.append(node)\n\n    while queue:\n        node = queue.pop(0)\n        \n        if node not in visited:\n            visited.append(node)\n\n            for n in graph[node]:\n                if n not in visited:\n                    queue.append(n)\n\n    return visited",
      "metadata": {
        "trusted": true
      },
      "outputs": [],
      "execution_count": null
    },
    {
      "cell_type": "code",
      "source": "graph = {\n    'A': ['B', 'C'],\n    'B': ['D', 'E'],\n    'C': ['F', 'G'],\n    'D': [],\n    'E': [],\n    'F': [],\n    'G': []\n}\n\nprint(bfs(graph, 'A'))",
      "metadata": {
        "trusted": true
      },
      "outputs": [],
      "execution_count": null
    }
  ]
}